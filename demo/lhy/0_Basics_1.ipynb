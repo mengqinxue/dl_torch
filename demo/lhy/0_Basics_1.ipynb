{
 "cells": [
  {
   "cell_type": "code",
   "execution_count": 1,
   "id": "69ea1c6d",
   "metadata": {},
   "outputs": [],
   "source": [
    "import numpy as np"
   ]
  },
  {
   "cell_type": "code",
   "execution_count": 5,
   "id": "953b0ced",
   "metadata": {},
   "outputs": [],
   "source": [
    "x = np.arange(-1, 1, 0.001)\n",
    "y = np.arange(-1, 1, 0.001)"
   ]
  },
  {
   "cell_type": "code",
   "execution_count": 9,
   "id": "0cdbf896",
   "metadata": {},
   "outputs": [],
   "source": [
    "data = np.transpose([np.tile(x, len(y)), np.repeat(y, len(x))])"
   ]
  },
  {
   "cell_type": "code",
   "execution_count": 10,
   "id": "62286f6d",
   "metadata": {},
   "outputs": [
    {
     "data": {
      "text/plain": [
       "4000000"
      ]
     },
     "execution_count": 10,
     "metadata": {},
     "output_type": "execute_result"
    }
   ],
   "source": [
    "len(data)"
   ]
  },
  {
   "cell_type": "code",
   "execution_count": null,
   "id": "ec037fc9",
   "metadata": {},
   "outputs": [],
   "source": []
  }
 ],
 "metadata": {
  "kernelspec": {
   "display_name": "Python 3 (ipykernel)",
   "language": "python",
   "name": "python3"
  },
  "language_info": {
   "codemirror_mode": {
    "name": "ipython",
    "version": 3
   },
   "file_extension": ".py",
   "mimetype": "text/x-python",
   "name": "python",
   "nbconvert_exporter": "python",
   "pygments_lexer": "ipython3",
   "version": "3.8.13"
  }
 },
 "nbformat": 4,
 "nbformat_minor": 5
}
